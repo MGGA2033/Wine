{
 "metadata": {
  "kernelspec": {
   "language": "python",
   "display_name": "Python 3",
   "name": "python3"
  },
  "language_info": {
   "pygments_lexer": "ipython3",
   "nbconvert_exporter": "python",
   "version": "3.6.4",
   "file_extension": ".py",
   "codemirror_mode": {
    "name": "ipython",
    "version": 3
   },
   "name": "python",
   "mimetype": "text/x-python"
  },
  "kaggle": {
   "accelerator": "none",
   "dataSources": [
    {
     "sourceId": 3047725,
     "sourceType": "datasetVersion",
     "datasetId": 1866301
    }
   ],
   "dockerImageVersionId": 30213,
   "isInternetEnabled": false,
   "language": "python",
   "sourceType": "notebook",
   "isGpuEnabled": false
  },
  "colab": {
   "provenance": []
  }
 },
 "nbformat_minor": 0,
 "nbformat": 4,
 "cells": [
  {
   "source": [
    "# IMPORTANT: RUN THIS CELL IN ORDER TO IMPORT YOUR KAGGLE DATA SOURCES,\n",
    "# THEN FEEL FREE TO DELETE THIS CELL.\n",
    "# NOTE: THIS NOTEBOOK ENVIRONMENT DIFFERS FROM KAGGLE'S PYTHON\n",
    "# ENVIRONMENT SO THERE MAY BE MISSING LIBRARIES USED BY YOUR\n",
    "# NOTEBOOK.\n",
    "import kagglehub\n",
    "yasserh_wine_quality_dataset_path = kagglehub.dataset_download('yasserh/wine-quality-dataset')\n",
    "\n",
    "print('Data source import complete.')\n"
   ],
   "metadata": {
    "id": "l-pO-42yj4kz",
    "outputId": "b06b19a6-7082-4013-b0da-cdc299e87567",
    "colab": {
     "base_uri": "https://localhost:8080/"
    }
   },
   "cell_type": "code",
   "outputs": [
    {
     "output_type": "stream",
     "name": "stdout",
     "text": [
      "Downloading from https://www.kaggle.com/api/v1/datasets/download/yasserh/wine-quality-dataset?dataset_version_number=1...\n"
     ]
    },
    {
     "output_type": "stream",
     "name": "stderr",
     "text": [
      "100%|██████████| 21.5k/21.5k [00:00<00:00, 26.1MB/s]"
     ]
    },
    {
     "output_type": "stream",
     "name": "stdout",
     "text": [
      "Extracting files...\n",
      "Data source import complete.\n"
     ]
    },
    {
     "output_type": "stream",
     "name": "stderr",
     "text": [
      "\n"
     ]
    }
   ],
   "execution_count": null
  },
  {
   "cell_type": "code",
   "source": [
    "import numpy as np # linear algebra\n",
    "import pandas as pd # data processing, CSV file I/O (e.g. pd.read_csv)\n",
    "import matplotlib.pyplot as plt\n",
    "import seaborn as sns\n",
    "import plotly.express as px\n",
    "from sklearn.preprocessing import LabelEncoder\n",
    "from sklearn.model_selection import train_test_split\n",
    "\n",
    "#for ML\n",
    "from sklearn.linear_model import LogisticRegression\n",
    "from sklearn.tree import DecisionTreeClassifier\n",
    "from sklearn.ensemble import RandomForestClassifier\n",
    "from sklearn.naive_bayes import GaussianNB\n",
    "from sklearn.svm import SVC\n",
    "from sklearn.neighbors import KNeighborsClassifier\n",
    "import xgboost as xgb\n",
    "from sklearn.metrics import accuracy_score,f1_score,classification_report,confusion_matrix\n",
    "\n",
    "import warnings\n",
    "warnings.filterwarnings('ignore')\n",
    "import os\n",
    "for dirname, _, filenames in os.walk('/kaggle/input'):\n",
    "    for filename in filenames:\n",
    "        print(os.path.join(dirname, filename))"
   ],
   "metadata": {
    "_uuid": "8f2839f25d086af736a60e9eeb907d3b93b6e0e5",
    "_cell_guid": "b1076dfc-b9ad-4769-8c92-a6c4dae69d19",
    "execution": {
     "iopub.status.busy": "2022-08-15T10:32:57.234406Z",
     "iopub.execute_input": "2022-08-15T10:32:57.235303Z",
     "iopub.status.idle": "2022-08-15T10:32:57.25115Z",
     "shell.execute_reply.started": "2022-08-15T10:32:57.235267Z",
     "shell.execute_reply": "2022-08-15T10:32:57.249974Z"
    },
    "trusted": true,
    "id": "wqcYrNG7j4k3"
   },
   "outputs": [],
   "execution_count": null
  },
  {
   "cell_type": "markdown",
   "source": [
    "### Reading the Data :"
   ],
   "metadata": {
    "id": "aAf5bd_1j4k3"
   }
  },
  {
   "cell_type": "code",
   "source": [
    "df =pd.read_csv('/kaggle/input/wine-quality-dataset/WineQT.csv')\n",
    "df.head()"
   ],
   "metadata": {
    "execution": {
     "iopub.status.busy": "2022-08-15T09:16:57.455729Z",
     "iopub.execute_input": "2022-08-15T09:16:57.456159Z",
     "iopub.status.idle": "2022-08-15T09:16:57.502479Z",
     "shell.execute_reply.started": "2022-08-15T09:16:57.456125Z",
     "shell.execute_reply": "2022-08-15T09:16:57.501534Z"
    },
    "trusted": true,
    "id": "2AHQ-tibj4k4"
   },
   "outputs": [],
   "execution_count": null
  },
  {
   "cell_type": "code",
   "source": [
    "del df['Id']"
   ],
   "metadata": {
    "execution": {
     "iopub.status.busy": "2022-08-15T09:17:14.702289Z",
     "iopub.execute_input": "2022-08-15T09:17:14.702837Z",
     "iopub.status.idle": "2022-08-15T09:17:14.713776Z",
     "shell.execute_reply.started": "2022-08-15T09:17:14.702792Z",
     "shell.execute_reply": "2022-08-15T09:17:14.712532Z"
    },
    "trusted": true,
    "id": "PYuyUNzlj4k5"
   },
   "outputs": [],
   "execution_count": null
  },
  {
   "cell_type": "code",
   "source": [
    "df.head()"
   ],
   "metadata": {
    "execution": {
     "iopub.status.busy": "2022-08-15T09:17:27.525841Z",
     "iopub.execute_input": "2022-08-15T09:17:27.526246Z",
     "iopub.status.idle": "2022-08-15T09:17:27.547325Z",
     "shell.execute_reply.started": "2022-08-15T09:17:27.526215Z",
     "shell.execute_reply": "2022-08-15T09:17:27.54626Z"
    },
    "trusted": true,
    "id": "ZriiAWZsj4k5"
   },
   "outputs": [],
   "execution_count": null
  },
  {
   "cell_type": "code",
   "source": [
    "df.describe().T.style.background_gradient(cmap='Greens')"
   ],
   "metadata": {
    "execution": {
     "iopub.status.busy": "2022-08-15T09:18:35.859078Z",
     "iopub.execute_input": "2022-08-15T09:18:35.859487Z",
     "iopub.status.idle": "2022-08-15T09:18:35.918922Z",
     "shell.execute_reply.started": "2022-08-15T09:18:35.859456Z",
     "shell.execute_reply": "2022-08-15T09:18:35.917827Z"
    },
    "trusted": true,
    "id": "t6H9RbtBj4k5"
   },
   "outputs": [],
   "execution_count": null
  },
  {
   "cell_type": "markdown",
   "source": [
    "### **Exploratory analysis**"
   ],
   "metadata": {
    "id": "h9LRRtRgj4k6"
   }
  },
  {
   "cell_type": "code",
   "source": [
    "plt.figure(figsize=(12,7))\n",
    "sns.countplot(x='quality',data=df,palette='Greens_d')\n",
    "plt.show()"
   ],
   "metadata": {
    "execution": {
     "iopub.status.busy": "2022-08-15T09:20:51.44816Z",
     "iopub.execute_input": "2022-08-15T09:20:51.44859Z",
     "iopub.status.idle": "2022-08-15T09:20:51.693292Z",
     "shell.execute_reply.started": "2022-08-15T09:20:51.448553Z",
     "shell.execute_reply": "2022-08-15T09:20:51.692056Z"
    },
    "trusted": true,
    "id": "JVCvt2Ncj4k6"
   },
   "outputs": [],
   "execution_count": null
  },
  {
   "cell_type": "markdown",
   "source": [
    "### Correlation of dataset is given below"
   ],
   "metadata": {
    "id": "3k6_XKUnj4k6"
   }
  },
  {
   "cell_type": "code",
   "source": [
    "df.corr()"
   ],
   "metadata": {
    "execution": {
     "iopub.status.busy": "2022-08-15T09:21:23.551525Z",
     "iopub.execute_input": "2022-08-15T09:21:23.55197Z",
     "iopub.status.idle": "2022-08-15T09:21:23.575464Z",
     "shell.execute_reply.started": "2022-08-15T09:21:23.551934Z",
     "shell.execute_reply": "2022-08-15T09:21:23.574316Z"
    },
    "trusted": true,
    "id": "rNemWg2Vj4k6"
   },
   "outputs": [],
   "execution_count": null
  },
  {
   "cell_type": "code",
   "source": [
    "plt.figure(figsize=(12,7))\n",
    "sns.heatmap(df.corr(),annot=True,cmap='Reds')\n",
    "plt.show()"
   ],
   "metadata": {
    "execution": {
     "iopub.status.busy": "2022-08-15T09:22:41.026117Z",
     "iopub.execute_input": "2022-08-15T09:22:41.026536Z",
     "iopub.status.idle": "2022-08-15T09:22:41.924308Z",
     "shell.execute_reply.started": "2022-08-15T09:22:41.026501Z",
     "shell.execute_reply": "2022-08-15T09:22:41.923454Z"
    },
    "trusted": true,
    "id": "-Z168b7rj4k7"
   },
   "outputs": [],
   "execution_count": null
  },
  {
   "cell_type": "markdown",
   "source": [
    "### Plot b/w total sulphur dioxide and free sulphur dioxide"
   ],
   "metadata": {
    "id": "PcPSimCQj4k7"
   }
  },
  {
   "cell_type": "code",
   "source": [
    "plt.figure(figsize=(12,7))\n",
    "sns.scatterplot(x='total sulfur dioxide',y='free sulfur dioxide',data=df)\n",
    "plt.show()"
   ],
   "metadata": {
    "execution": {
     "iopub.status.busy": "2022-08-15T09:37:46.921397Z",
     "iopub.execute_input": "2022-08-15T09:37:46.921849Z",
     "iopub.status.idle": "2022-08-15T09:37:47.182498Z",
     "shell.execute_reply.started": "2022-08-15T09:37:46.921811Z",
     "shell.execute_reply": "2022-08-15T09:37:47.181029Z"
    },
    "trusted": true,
    "id": "eW21ZVJWj4k7",
    "jupyter": {
     "is_executing": true
    }
   },
   "outputs": [],
   "execution_count": null
  },
  {
   "cell_type": "markdown",
   "source": [
    "### Quality of wine varies b/w 3-8,and the below plot give information about how the quality changes with respect to  volatile acidity"
   ],
   "metadata": {
    "id": "Ey3w05Jyj4k7"
   }
  },
  {
   "cell_type": "code",
   "source": [
    "plt.figure(figsize=(12,7))\n",
    "sns.violinplot(x='quality',y='volatile acidity',data=df,hue='quality')\n",
    "plt.show()"
   ],
   "metadata": {
    "execution": {
     "iopub.status.busy": "2022-08-15T09:37:01.537932Z",
     "iopub.execute_input": "2022-08-15T09:37:01.538355Z",
     "iopub.status.idle": "2022-08-15T09:37:01.917884Z",
     "shell.execute_reply.started": "2022-08-15T09:37:01.538321Z",
     "shell.execute_reply": "2022-08-15T09:37:01.916719Z"
    },
    "trusted": true,
    "id": "8dPQfS3Pj4k7"
   },
   "outputs": [],
   "execution_count": null
  },
  {
   "cell_type": "code",
   "source": [
    "plt.figure(figsize=(12,7))\n",
    "sns.boxplot(x='quality',y='volatile acidity',data=df,hue='quality')\n",
    "plt.show()"
   ],
   "metadata": {
    "execution": {
     "iopub.status.busy": "2022-08-15T09:36:15.502082Z",
     "iopub.execute_input": "2022-08-15T09:36:15.502517Z",
     "iopub.status.idle": "2022-08-15T09:36:15.867229Z",
     "shell.execute_reply.started": "2022-08-15T09:36:15.50248Z",
     "shell.execute_reply": "2022-08-15T09:36:15.865978Z"
    },
    "trusted": true,
    "id": "EPda0xSaj4k7"
   },
   "outputs": [],
   "execution_count": null
  },
  {
   "cell_type": "markdown",
   "source": [
    "### The below plot explians in detail about how the density of wine varies with the fixed acidity"
   ],
   "metadata": {
    "id": "3JThI_Waj4k7"
   }
  },
  {
   "cell_type": "code",
   "source": [
    "plt.figure(figsize=(12,7))\n",
    "sns.scatterplot(x='density',y='fixed acidity',data=df)"
   ],
   "metadata": {
    "execution": {
     "iopub.status.busy": "2022-08-15T09:40:38.440947Z",
     "iopub.execute_input": "2022-08-15T09:40:38.44207Z",
     "iopub.status.idle": "2022-08-15T09:40:38.688718Z",
     "shell.execute_reply.started": "2022-08-15T09:40:38.442027Z",
     "shell.execute_reply": "2022-08-15T09:40:38.6878Z"
    },
    "trusted": true,
    "id": "HNLOyg0xj4k8"
   },
   "outputs": [],
   "execution_count": null
  },
  {
   "cell_type": "markdown",
   "source": [
    "### The below plot explains about how volatile acidity of wine changes with respect to citric acid  "
   ],
   "metadata": {
    "id": "BaErE3s9j4k8"
   }
  },
  {
   "cell_type": "code",
   "source": [
    "plt.figure(figsize=(12,7))\n",
    "sns.scatterplot(x='volatile acidity',y='citric acid',data=df)\n",
    "plt.show()"
   ],
   "metadata": {
    "execution": {
     "iopub.status.busy": "2022-08-15T09:42:31.174844Z",
     "iopub.execute_input": "2022-08-15T09:42:31.175696Z",
     "iopub.status.idle": "2022-08-15T09:42:31.360102Z",
     "shell.execute_reply.started": "2022-08-15T09:42:31.175645Z",
     "shell.execute_reply": "2022-08-15T09:42:31.358982Z"
    },
    "trusted": true,
    "id": "G0sAdcRNj4k8"
   },
   "outputs": [],
   "execution_count": null
  },
  {
   "cell_type": "markdown",
   "source": [
    "### The below plot explains how quality of wine varies in according with sulphates in it"
   ],
   "metadata": {
    "id": "GKc71i-1j4k8"
   }
  },
  {
   "cell_type": "code",
   "source": [
    "plt.figure(figsize=(12,7))\n",
    "sns.boxplot(x='quality',y='sulphates',data=df,hue='quality')\n",
    "plt.show()"
   ],
   "metadata": {
    "execution": {
     "iopub.status.busy": "2022-08-15T09:44:59.622116Z",
     "iopub.execute_input": "2022-08-15T09:44:59.623055Z",
     "iopub.status.idle": "2022-08-15T09:44:59.914075Z",
     "shell.execute_reply.started": "2022-08-15T09:44:59.622995Z",
     "shell.execute_reply": "2022-08-15T09:44:59.912875Z"
    },
    "trusted": true,
    "id": "vSKsikG0j4k8"
   },
   "outputs": [],
   "execution_count": null
  },
  {
   "cell_type": "markdown",
   "source": [
    "### The below plot describes about citric acid and volatile acidity"
   ],
   "metadata": {
    "id": "CrlyOMZLj4k8"
   }
  },
  {
   "cell_type": "code",
   "source": [
    "plt.figure(figsize=(12,7))\n",
    "sns.scatterplot(x='citric acid',y='volatile acidity',data=df)\n",
    "plt.show()"
   ],
   "metadata": {
    "execution": {
     "iopub.status.busy": "2022-08-15T09:54:46.113766Z",
     "iopub.execute_input": "2022-08-15T09:54:46.114515Z",
     "iopub.status.idle": "2022-08-15T09:54:46.293997Z",
     "shell.execute_reply.started": "2022-08-15T09:54:46.114477Z",
     "shell.execute_reply": "2022-08-15T09:54:46.292817Z"
    },
    "trusted": true,
    "id": "ZxGHeCsaj4k8"
   },
   "outputs": [],
   "execution_count": null
  },
  {
   "cell_type": "markdown",
   "source": [
    "### Data Preprocessing"
   ],
   "metadata": {
    "id": "w8pYvSLwj4k8"
   }
  },
  {
   "cell_type": "code",
   "source": [
    "for col in ['fixed acidity','volatile acidity','citric acid','residual sugar','chlorides','free sulfur dioxide','total sulfur dioxide','density','pH','sulphates','alcohol']:\n",
    "    df[col]=df[col]/df[col].max()"
   ],
   "metadata": {
    "execution": {
     "iopub.status.busy": "2022-08-15T10:01:36.421569Z",
     "iopub.execute_input": "2022-08-15T10:01:36.422033Z",
     "iopub.status.idle": "2022-08-15T10:01:36.435359Z",
     "shell.execute_reply.started": "2022-08-15T10:01:36.421973Z",
     "shell.execute_reply": "2022-08-15T10:01:36.434295Z"
    },
    "trusted": true,
    "id": "ST0qT3K1j4k8"
   },
   "outputs": [],
   "execution_count": null
  },
  {
   "cell_type": "markdown",
   "source": [
    "### Splitting the dataset as 20% for testing and 80% for training"
   ],
   "metadata": {
    "id": "TFqB66waj4k9"
   }
  },
  {
   "cell_type": "code",
   "source": [
    "feature=np.array(df[['fixed acidity','volatile acidity','citric acid','residual sugar','chlorides','free sulfur dioxide','total sulfur dioxide','density','pH','sulphates','alcohol']])\n",
    "label=np.array(df['quality'])\n",
    "\n",
    "xtrain,xtest,ytrain,ytest=train_test_split(feature,label,test_size=0.2,random_state=0)"
   ],
   "metadata": {
    "execution": {
     "iopub.status.busy": "2022-08-15T10:04:59.49927Z",
     "iopub.execute_input": "2022-08-15T10:04:59.500101Z",
     "iopub.status.idle": "2022-08-15T10:04:59.509654Z",
     "shell.execute_reply.started": "2022-08-15T10:04:59.500062Z",
     "shell.execute_reply": "2022-08-15T10:04:59.508351Z"
    },
    "trusted": true,
    "id": "qrv98RUij4k9"
   },
   "outputs": [],
   "execution_count": null
  },
  {
   "cell_type": "markdown",
   "source": [
    "### Preparing for Models"
   ],
   "metadata": {
    "id": "CUqpsbl3j4k9"
   }
  },
  {
   "cell_type": "code",
   "source": [
    "model_comp={}"
   ],
   "metadata": {
    "execution": {
     "iopub.status.busy": "2022-08-15T10:18:40.045624Z",
     "iopub.execute_input": "2022-08-15T10:18:40.046035Z",
     "iopub.status.idle": "2022-08-15T10:18:40.051164Z",
     "shell.execute_reply.started": "2022-08-15T10:18:40.045983Z",
     "shell.execute_reply": "2022-08-15T10:18:40.049955Z"
    },
    "trusted": true,
    "id": "C7RVQbeAj4k9"
   },
   "outputs": [],
   "execution_count": null
  },
  {
   "cell_type": "markdown",
   "source": [
    "### 1.Logistic Regression"
   ],
   "metadata": {
    "id": "4JRIk_NKj4k9"
   }
  },
  {
   "cell_type": "code",
   "source": [
    "lgr=LogisticRegression()\n",
    "lgr.fit(xtrain,ytrain)\n",
    "y1=lgr.predict(xtest)\n",
    "print(accuracy_score(ytest,y1))\n",
    "print(f1_score(ytest,y1,average='weighted'))\n",
    "print(classification_report(ytest,y1))\n",
    "\n",
    "model_comp['logistic regression']=[accuracy_score(y1,ytest),f1_score(ytest,y1,average='weighted')]"
   ],
   "metadata": {
    "execution": {
     "iopub.status.busy": "2022-08-15T10:25:49.315124Z",
     "iopub.execute_input": "2022-08-15T10:25:49.315569Z",
     "iopub.status.idle": "2022-08-15T10:25:49.405903Z",
     "shell.execute_reply.started": "2022-08-15T10:25:49.315531Z",
     "shell.execute_reply": "2022-08-15T10:25:49.404876Z"
    },
    "trusted": true,
    "id": "sOj1RRWZj4k9"
   },
   "outputs": [],
   "execution_count": null
  },
  {
   "cell_type": "markdown",
   "source": [
    "### 2. Decision Tree"
   ],
   "metadata": {
    "id": "dQOAvPT-j4k9"
   }
  },
  {
   "cell_type": "code",
   "source": [
    "dt=DecisionTreeClassifier()\n",
    "dt.fit(xtrain,ytrain)\n",
    "y2=dt.predict(xtest)\n",
    "\n",
    "print(accuracy_score(ytest,y2))\n",
    "print(f1_score(ytest,y2,average='weighted'))\n",
    "print(classification_report(ytest,y2))\n",
    "\n",
    "model_comp['decision tree']=[accuracy_score(y2,ytest),f1_score(ytest,y2,average='weighted')]"
   ],
   "metadata": {
    "execution": {
     "iopub.status.busy": "2022-08-15T10:25:57.013024Z",
     "iopub.execute_input": "2022-08-15T10:25:57.013414Z",
     "iopub.status.idle": "2022-08-15T10:25:57.03463Z",
     "shell.execute_reply.started": "2022-08-15T10:25:57.013381Z",
     "shell.execute_reply": "2022-08-15T10:25:57.033793Z"
    },
    "trusted": true,
    "id": "tVpU7tfDj4k9"
   },
   "outputs": [],
   "execution_count": null
  },
  {
   "cell_type": "markdown",
   "source": [
    "###  3 RandomForest"
   ],
   "metadata": {
    "id": "MogTb8ITj4k-"
   }
  },
  {
   "cell_type": "code",
   "source": [
    "rf=RandomForestClassifier()\n",
    "rf.fit(xtrain,ytrain)\n",
    "y3=rf.predict(xtest)\n",
    "\n",
    "print(accuracy_score(ytest,y3))\n",
    "print(f1_score(ytest,y3,average='weighted'))\n",
    "print(classification_report(ytest,y3))\n",
    "\n",
    "\n",
    "model_comp['Random forest']=[accuracy_score(y3,ytest),f1_score(ytest,y3,average='weighted')]"
   ],
   "metadata": {
    "execution": {
     "iopub.status.busy": "2022-08-15T10:26:03.53765Z",
     "iopub.execute_input": "2022-08-15T10:26:03.538072Z",
     "iopub.status.idle": "2022-08-15T10:26:03.85698Z",
     "shell.execute_reply.started": "2022-08-15T10:26:03.538029Z",
     "shell.execute_reply": "2022-08-15T10:26:03.8558Z"
    },
    "trusted": true,
    "id": "cjE7Kj2qj4k-"
   },
   "outputs": [],
   "execution_count": null
  },
  {
   "cell_type": "markdown",
   "source": [
    "### 4 KNN"
   ],
   "metadata": {
    "id": "laMH20t_j4k-"
   }
  },
  {
   "cell_type": "code",
   "source": [
    "k=KNeighborsClassifier()\n",
    "k.fit(xtrain,ytrain)\n",
    "y4=k.predict(xtest)\n",
    "\n",
    "print(accuracy_score(ytest,y4))\n",
    "print(f1_score(ytest,y4,average='weighted'))\n",
    "print(classification_report(ytest,y4))\n",
    "\n",
    "model_comp['KNN']=[accuracy_score(y4,ytest),f1_score(ytest,y4,average='weighted')]"
   ],
   "metadata": {
    "execution": {
     "iopub.status.busy": "2022-08-15T10:28:11.981639Z",
     "iopub.execute_input": "2022-08-15T10:28:11.982078Z",
     "iopub.status.idle": "2022-08-15T10:28:12.006398Z",
     "shell.execute_reply.started": "2022-08-15T10:28:11.982037Z",
     "shell.execute_reply": "2022-08-15T10:28:12.005439Z"
    },
    "trusted": true,
    "id": "d1NL_jCRj4k-"
   },
   "outputs": [],
   "execution_count": null
  },
  {
   "cell_type": "markdown",
   "source": [
    "### 5 SVC"
   ],
   "metadata": {
    "id": "6oKbEx29j4lC"
   }
  },
  {
   "cell_type": "code",
   "source": [
    "s=SVC()\n",
    "s.fit(xtrain,ytrain)\n",
    "y5=s.predict(xtest)\n",
    "\n",
    "print(accuracy_score(ytest,y5))\n",
    "print(f1_score(ytest,y5,average='weighted'))\n",
    "print(classification_report(ytest,y5))\n",
    "\n",
    "model_comp['svc']=[accuracy_score(y5,ytest),f1_score(ytest,y5,average='weighted')]"
   ],
   "metadata": {
    "execution": {
     "iopub.status.busy": "2022-08-15T10:29:55.304937Z",
     "iopub.execute_input": "2022-08-15T10:29:55.305375Z",
     "iopub.status.idle": "2022-08-15T10:29:55.389159Z",
     "shell.execute_reply.started": "2022-08-15T10:29:55.305341Z",
     "shell.execute_reply": "2022-08-15T10:29:55.388087Z"
    },
    "trusted": true,
    "id": "Db87Wrqej4lC"
   },
   "outputs": [],
   "execution_count": null
  },
  {
   "cell_type": "markdown",
   "source": [
    "### Model Comparison\n",
    "### accuracy and f1 scores of all applied models are given below"
   ],
   "metadata": {
    "id": "vmsJAqO_j4lC"
   }
  },
  {
   "cell_type": "code",
   "source": [
    "df1=pd.DataFrame.from_dict(model_comp).T\n",
    "df1.columns=['Accuracy','F1_score']\n",
    "df1=df1.sort_values('F1_score',ascending=True)\n",
    "df1.style.background_gradient(cmap='Greens')"
   ],
   "metadata": {
    "execution": {
     "iopub.status.busy": "2022-08-15T10:40:19.339716Z",
     "iopub.execute_input": "2022-08-15T10:40:19.340132Z",
     "iopub.status.idle": "2022-08-15T10:40:19.358659Z",
     "shell.execute_reply.started": "2022-08-15T10:40:19.340098Z",
     "shell.execute_reply": "2022-08-15T10:40:19.357462Z"
    },
    "trusted": true,
    "id": "8dCPaG0zj4lC"
   },
   "outputs": [],
   "execution_count": null
  },
  {
   "cell_type": "markdown",
   "source": [
    "# Thank you,Please upvote the notebook."
   ],
   "metadata": {
    "id": "eOIyyVluj4lC"
   }
  }
 ]
}
